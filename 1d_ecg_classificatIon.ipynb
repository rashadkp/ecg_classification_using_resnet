{
  "nbformat": 4,
  "nbformat_minor": 0,
  "metadata": {
    "colab": {
      "provenance": [],
      "gpuType": "T4"
    },
    "kernelspec": {
      "name": "python3",
      "display_name": "Python 3"
    },
    "language_info": {
      "name": "python"
    },
    "accelerator": "GPU"
  },
  "cells": [
    {
      "cell_type": "code",
      "source": [
        "pip install wfdb"
      ],
      "metadata": {
        "colab": {
          "base_uri": "https://localhost:8080/"
        },
        "id": "3UTssQYz_Z0F",
        "outputId": "0702790c-933c-4244-f6b0-b51b8c3183e2"
      },
      "execution_count": null,
      "outputs": [
        {
          "output_type": "stream",
          "name": "stdout",
          "text": [
            "Collecting wfdb\n",
            "  Downloading wfdb-4.1.2-py3-none-any.whl (159 kB)\n",
            "\u001b[2K     \u001b[90m━━━━━━━━━━━━━━━━━━━━━━━━━━━━━━━━━━━━━━━━\u001b[0m \u001b[32m160.0/160.0 kB\u001b[0m \u001b[31m1.5 MB/s\u001b[0m eta \u001b[36m0:00:00\u001b[0m\n",
            "\u001b[?25hRequirement already satisfied: SoundFile>=0.10.0 in /usr/local/lib/python3.10/dist-packages (from wfdb) (0.12.1)\n",
            "Requirement already satisfied: matplotlib>=3.2.2 in /usr/local/lib/python3.10/dist-packages (from wfdb) (3.7.1)\n",
            "Requirement already satisfied: numpy>=1.10.1 in /usr/local/lib/python3.10/dist-packages (from wfdb) (1.25.2)\n",
            "Requirement already satisfied: pandas>=1.3.0 in /usr/local/lib/python3.10/dist-packages (from wfdb) (2.0.3)\n",
            "Requirement already satisfied: requests>=2.8.1 in /usr/local/lib/python3.10/dist-packages (from wfdb) (2.31.0)\n",
            "Requirement already satisfied: scipy>=1.0.0 in /usr/local/lib/python3.10/dist-packages (from wfdb) (1.11.4)\n",
            "Requirement already satisfied: contourpy>=1.0.1 in /usr/local/lib/python3.10/dist-packages (from matplotlib>=3.2.2->wfdb) (1.2.1)\n",
            "Requirement already satisfied: cycler>=0.10 in /usr/local/lib/python3.10/dist-packages (from matplotlib>=3.2.2->wfdb) (0.12.1)\n",
            "Requirement already satisfied: fonttools>=4.22.0 in /usr/local/lib/python3.10/dist-packages (from matplotlib>=3.2.2->wfdb) (4.51.0)\n",
            "Requirement already satisfied: kiwisolver>=1.0.1 in /usr/local/lib/python3.10/dist-packages (from matplotlib>=3.2.2->wfdb) (1.4.5)\n",
            "Requirement already satisfied: packaging>=20.0 in /usr/local/lib/python3.10/dist-packages (from matplotlib>=3.2.2->wfdb) (24.0)\n",
            "Requirement already satisfied: pillow>=6.2.0 in /usr/local/lib/python3.10/dist-packages (from matplotlib>=3.2.2->wfdb) (9.4.0)\n",
            "Requirement already satisfied: pyparsing>=2.3.1 in /usr/local/lib/python3.10/dist-packages (from matplotlib>=3.2.2->wfdb) (3.1.2)\n",
            "Requirement already satisfied: python-dateutil>=2.7 in /usr/local/lib/python3.10/dist-packages (from matplotlib>=3.2.2->wfdb) (2.8.2)\n",
            "Requirement already satisfied: pytz>=2020.1 in /usr/local/lib/python3.10/dist-packages (from pandas>=1.3.0->wfdb) (2023.4)\n",
            "Requirement already satisfied: tzdata>=2022.1 in /usr/local/lib/python3.10/dist-packages (from pandas>=1.3.0->wfdb) (2024.1)\n",
            "Requirement already satisfied: charset-normalizer<4,>=2 in /usr/local/lib/python3.10/dist-packages (from requests>=2.8.1->wfdb) (3.3.2)\n",
            "Requirement already satisfied: idna<4,>=2.5 in /usr/local/lib/python3.10/dist-packages (from requests>=2.8.1->wfdb) (3.7)\n",
            "Requirement already satisfied: urllib3<3,>=1.21.1 in /usr/local/lib/python3.10/dist-packages (from requests>=2.8.1->wfdb) (2.0.7)\n",
            "Requirement already satisfied: certifi>=2017.4.17 in /usr/local/lib/python3.10/dist-packages (from requests>=2.8.1->wfdb) (2024.2.2)\n",
            "Requirement already satisfied: cffi>=1.0 in /usr/local/lib/python3.10/dist-packages (from SoundFile>=0.10.0->wfdb) (1.16.0)\n",
            "Requirement already satisfied: pycparser in /usr/local/lib/python3.10/dist-packages (from cffi>=1.0->SoundFile>=0.10.0->wfdb) (2.22)\n",
            "Requirement already satisfied: six>=1.5 in /usr/local/lib/python3.10/dist-packages (from python-dateutil>=2.7->matplotlib>=3.2.2->wfdb) (1.16.0)\n",
            "Installing collected packages: wfdb\n",
            "Successfully installed wfdb-4.1.2\n"
          ]
        }
      ]
    },
    {
      "cell_type": "code",
      "source": [
        "from google.colab import drive\n",
        "drive.mount('/content/drive')"
      ],
      "metadata": {
        "colab": {
          "base_uri": "https://localhost:8080/"
        },
        "id": "pCbTMGWG8HNw",
        "outputId": "6e60aede-90b9-4d5f-c74b-5885a609352c"
      },
      "execution_count": null,
      "outputs": [
        {
          "output_type": "stream",
          "name": "stdout",
          "text": [
            "Mounted at /content/drive\n"
          ]
        }
      ]
    },
    {
      "cell_type": "code",
      "execution_count": null,
      "metadata": {
        "id": "jyIMzGSA-_oZ"
      },
      "outputs": [],
      "source": [
        "import numpy as np\n",
        "import matplotlib.pyplot as plt\n",
        "from scipy import signal\n",
        "import wfdb\n",
        "import pandas as pd\n",
        "import sys\n",
        "import torch\n",
        "import os\n",
        "from torch.utils.data import Dataset\n",
        "from torchvision import transforms\n",
        "import ast"
      ]
    },
    {
      "cell_type": "code",
      "source": [
        "path = '/content/drive/MyDrive/Physionet/ptb-xl/'\n",
        "excel = '/content/drive/MyDrive/Physionet/ptb-xl/ptbxl_database.csv'"
      ],
      "metadata": {
        "id": "A43FYGHX_iX-"
      },
      "execution_count": null,
      "outputs": []
    },
    {
      "cell_type": "code",
      "source": [
        "import pandas as pd\n",
        "import numpy as np\n",
        "import ast\n",
        "import wfdb\n",
        "from torch.utils.data import Dataset\n",
        "from torchvision import transforms\n",
        "\n",
        "class Custom_class(Dataset):\n",
        "    def __init__(self, excelfile, path, num_data, transform=None, test_flag=False):\n",
        "        self.dat = pd.read_csv(excelfile)\n",
        "        self.col = self.dat['filename_hr']\n",
        "        self.data = self.col[:num_data]\n",
        "        self.label = self.dat['scp_codes']\n",
        "        self.labels = self.label[:num_data]\n",
        "        self.strat_fold = self.dat['strat_fold']  # Load strat_fold column\n",
        "        self.path = path\n",
        "        self.transform = transform  # Initialize the transform attribute\n",
        "        self.num_data = num_data\n",
        "        self.test_flag = test_flag\n",
        "\n",
        "        if self.test_flag:\n",
        "            self.indices = [idx for idx in range(self.num_data) if self.strat_fold[idx] == 10]\n",
        "        else:\n",
        "            self.indices = [idx for idx in range(self.num_data) if self.strat_fold[idx] != 10]\n",
        "\n",
        "    def __len__(self):\n",
        "        return len(self.indices)\n",
        "\n",
        "    def __getitem__(self, idx):\n",
        "        idx = self.indices[idx]  # Adjust index to match filtered data\n",
        "        y, _ = wfdb.rdsamp(self.path + self.data[idx])  # Use channel 0\n",
        "        y = y.astype(np.float32)\n",
        "        y = np.transpose(y)\n",
        "        scp_code_dict = ast.literal_eval(self.labels[idx])\n",
        "\n",
        "        # Check if the first key is 'NORM' and assign the label accordingly\n",
        "        first_key = next(iter(scp_code_dict))\n",
        "        label = 0 if first_key == 'NORM' else 1\n",
        "\n",
        "        if self.transform:\n",
        "            y = self.transform(y)\n",
        "\n",
        "        return y[0,:,:], label\n",
        "\n",
        "# Example usage\n",
        "transform = transforms.Compose([\n",
        "    transforms.ToTensor(),\n",
        "])\n",
        "\n",
        "# For training data\n",
        "train_dataset = Custom_class(excel, path, num_data=2000, transform=transform, test_flag=False)\n",
        "\n",
        "# For test data\n",
        "test_dataset = Custom_class(excel, path, num_data=5000, transform=transform, test_flag=True)\n"
      ],
      "metadata": {
        "id": "tozT3NrF_kAl"
      },
      "execution_count": null,
      "outputs": []
    },
    {
      "cell_type": "code",
      "source": [
        "import torch\n",
        "import torch.nn as nn\n",
        "import torch.nn.functional as F\n",
        "\n",
        "class SelfAttention(nn.Module):\n",
        "    def __init__(self, in_channels):\n",
        "        super(SelfAttention, self).__init__()\n",
        "        self.query = nn.Conv1d(in_channels, in_channels // 8, kernel_size=1)\n",
        "        self.key = nn.Conv1d(in_channels, in_channels // 8, kernel_size=1)\n",
        "        self.value = nn.Conv1d(in_channels, in_channels, kernel_size=1)\n",
        "        self.gamma = nn.Parameter(torch.zeros(1))\n",
        "\n",
        "    def forward(self, x):\n",
        "        batch_size, C, T = x.size()\n",
        "        query = self.query(x).view(batch_size, -1, T).permute(0, 2, 1)  # B x T x C'\n",
        "        key = self.key(x).view(batch_size, -1, T)  # B x C' x T\n",
        "        value = self.value(x).view(batch_size, -1, T)  # B x C x T\n",
        "\n",
        "        attention = torch.bmm(query, key)  # B x T x T\n",
        "        attention = F.softmax(attention, dim=-1)  # B x T x T\n",
        "\n",
        "        out = torch.bmm(value, attention.permute(0, 2, 1))  # B x C x T\n",
        "        out = self.gamma * out + x\n",
        "        return out\n",
        "\n",
        "# Define the Res_Block_1\n",
        "class ResBlock1(nn.Module):\n",
        "    def __init__(self, in_channels, out_channels):\n",
        "        super(ResBlock1, self).__init__()\n",
        "        self.conv1 = nn.Conv1d(in_channels, out_channels, kernel_size=1, stride=1, padding='same')\n",
        "        self.bn1 = nn.BatchNorm1d(out_channels)\n",
        "        self.conv2 = nn.Conv1d(out_channels, out_channels, kernel_size=3, stride=1, padding='same')\n",
        "        self.bn2 = nn.BatchNorm1d(out_channels)\n",
        "\n",
        "        self.adjust_channels = nn.Conv1d(in_channels, out_channels, kernel_size=1, stride=1, padding='same')\n",
        "        self.adjust_bn = nn.BatchNorm1d(out_channels)\n",
        "\n",
        "    def forward(self, x):\n",
        "        shortcut = self.adjust_channels(x)\n",
        "        shortcut = self.adjust_bn(shortcut)\n",
        "\n",
        "        x = F.relu(self.bn1(self.conv1(x)))\n",
        "        x = self.bn2(self.conv2(x))\n",
        "        x += shortcut\n",
        "        x = F.relu(x)\n",
        "        return x\n",
        "\n",
        "# Define the Res_Block_2\n",
        "class ResBlock2(nn.Module):\n",
        "    def __init__(self, in_channels, out_channels):\n",
        "        super(ResBlock2, self).__init__()\n",
        "        self.conv1 = nn.Conv1d(in_channels, out_channels, kernel_size=1, stride=1, padding='same')\n",
        "        self.bn1 = nn.BatchNorm1d(out_channels)\n",
        "        self.conv2 = nn.Conv1d(out_channels, out_channels, kernel_size=3, stride=1, padding='same')\n",
        "        self.bn2 = nn.BatchNorm1d(out_channels)\n",
        "        self.conv3 = nn.Conv1d(out_channels, out_channels, kernel_size=1, stride=1, padding='same')\n",
        "        self.bn3 = nn.BatchNorm1d(out_channels)\n",
        "\n",
        "        self.adjust_channels = nn.Conv1d(in_channels, out_channels, kernel_size=1, stride=1, padding='same')\n",
        "        self.adjust_bn = nn.BatchNorm1d(out_channels)\n",
        "\n",
        "    def forward(self, x):\n",
        "        shortcut = self.adjust_channels(x)\n",
        "        shortcut = self.adjust_bn(shortcut)\n",
        "\n",
        "        x = F.relu(self.bn1(self.conv1(x)))\n",
        "        x = F.relu(self.bn2(self.conv2(x)))\n",
        "        x = self.bn3(self.conv3(x))\n",
        "        x += shortcut\n",
        "        x = F.relu(x)\n",
        "        return x\n",
        "\n",
        "# Define the complete ResNet-50 model with Self-Attention\n",
        "class ResNet50(nn.Module):\n",
        "    def __init__(self, input_channels=12, num_classes=27):\n",
        "        super(ResNet50, self).__init__()\n",
        "        self.conv1 = nn.Conv1d(input_channels, 64, kernel_size=7, stride=2, padding=3)\n",
        "        self.bn1 = nn.BatchNorm1d(64)\n",
        "        self.maxpool = nn.MaxPool1d(kernel_size=3, stride=2, padding=1)\n",
        "\n",
        "        self.layer1 = self._make_layer(ResBlock1, 64, 64, 3)\n",
        "        self.layer2 = self._make_layer(ResBlock2, 64, 128, 4)\n",
        "        self.layer3 = self._make_layer(ResBlock1, 128, 256, 6)\n",
        "        self.layer4 = self._make_layer(ResBlock2, 256, 512, 3)\n",
        "\n",
        "        self.attention = SelfAttention(512)\n",
        "        self.avgpool = nn.AdaptiveAvgPool1d(1)\n",
        "        self.fc = nn.Linear(512, num_classes)\n",
        "\n",
        "    def _make_layer(self, block, in_channels, out_channels, blocks):\n",
        "        layers = []\n",
        "        layers.append(block(in_channels, out_channels))\n",
        "        for _ in range(1, blocks):\n",
        "            layers.append(block(out_channels, out_channels))\n",
        "        return nn.Sequential(*layers)\n",
        "\n",
        "    def forward(self, x):\n",
        "        x = self.conv1(x)\n",
        "        x = self.bn1(x)\n",
        "        x = F.relu(x)\n",
        "        x = self.maxpool(x)\n",
        "\n",
        "        x = self.layer1(x)\n",
        "        x = self.layer2(x)\n",
        "        x = self.layer3(x)\n",
        "        x = self.layer4(x)\n",
        "\n",
        "        x = self.attention(x)\n",
        "        x = self.avgpool(x)\n",
        "\n",
        "        x = torch.flatten(x, 1)\n",
        "        x = self.fc(x)\n",
        "        x = torch.sigmoid(x)\n",
        "        return x\n",
        "\n",
        "# Instantiate the model and print the summary\n",
        "model = ResNet50(input_channels=12, num_classes=2)\n",
        "\n",
        "# Check if CUDA is available and move the model to the GPU if it is\n",
        "device = torch.device('cuda' if torch.cuda.is_available() else 'cpu')\n",
        "model = model.to(device)\n"
      ],
      "metadata": {
        "id": "XI7KUi3h_-iL"
      },
      "execution_count": null,
      "outputs": []
    },
    {
      "cell_type": "code",
      "source": [
        "from torch.utils.data import DataLoader\n",
        "\n",
        "train_dataloader = DataLoader(train_dataset, batch_size=32, shuffle=True,num_workers=2)"
      ],
      "metadata": {
        "id": "_P3pWpWNGj7x"
      },
      "execution_count": null,
      "outputs": []
    },
    {
      "cell_type": "code",
      "source": [
        "import torch.optim as optim\n",
        "from torch.optim import lr_scheduler\n",
        "import copy\n",
        "\n",
        "\n",
        "criterion = nn.CrossEntropyLoss()\n",
        "optimizer = optim.SGD(model.parameters(), lr=0.001, momentum=0.9)\n",
        "scheduler = lr_scheduler.StepLR(optimizer, step_size=7, gamma=0.1)\n",
        "\n",
        "num_epochs = 25\n",
        "best_model_wts = copy.deepcopy(model.state_dict())\n",
        "best_acc = 0.0\n",
        "\n",
        "\n",
        "\n",
        "\n",
        "for epoch in range(num_epochs):\n",
        "    running_loss = 0.0\n",
        "    running_corrects = 0\n",
        "\n",
        "    for inputs, labels in train_dataloader:\n",
        "        inputs = inputs.to(device)\n",
        "        labels = labels.to(device)\n",
        "\n",
        "        optimizer.zero_grad()\n",
        "\n",
        "        outputs = model(inputs)\n",
        "        _, preds = torch.max(outputs, 1)\n",
        "        loss = criterion(outputs, labels)\n",
        "\n",
        "        loss.backward()\n",
        "        optimizer.step()\n",
        "\n",
        "        running_loss += loss.item() * inputs.size(0)\n",
        "        running_corrects += torch.sum(preds == labels.data)\n",
        "\n",
        "    epoch_loss = running_loss / len(train_dataloader.dataset)\n",
        "    epoch_acc = running_corrects.double() / len(train_dataloader.dataset)\n",
        "\n",
        "\n",
        "    print(f'Epoch {epoch}/{num_epochs - 1}, Loss: {epoch_loss:.4f}, Accuracy: {epoch_acc:.4f}')\n",
        "\n",
        "    # Deep copy the model if the current accuracy is the best so far\n",
        "    if epoch_acc > best_acc:\n",
        "        best_acc = epoch_acc\n",
        "        best_model_wts = copy.deepcopy(model.state_dict())\n",
        "\n",
        "    scheduler.step()\n",
        "\n",
        "# Load best model weights\n",
        "model.load_state_dict(best_model_wts)\n",
        "\n",
        "# Save the best model\n",
        "torch.save(model.state_dict(), \"best_model.pth\")\n",
        "\n",
        "print(f\"Training complete. Best accuracy: {best_acc:.4f}\")\n"
      ],
      "metadata": {
        "colab": {
          "base_uri": "https://localhost:8080/"
        },
        "id": "rclVOfWEF8lt",
        "outputId": "cc132c7e-9ecb-4353-c11f-88ce1595e523"
      },
      "execution_count": null,
      "outputs": [
        {
          "output_type": "stream",
          "name": "stdout",
          "text": [
            "Epoch 0/24, Loss: 0.6778, Accuracy: 0.5759\n",
            "Epoch 1/24, Loss: 0.6481, Accuracy: 0.6854\n",
            "Epoch 2/24, Loss: 0.6248, Accuracy: 0.7129\n",
            "Epoch 3/24, Loss: 0.6033, Accuracy: 0.7295\n",
            "Epoch 4/24, Loss: 0.5839, Accuracy: 0.7410\n",
            "Epoch 5/24, Loss: 0.5683, Accuracy: 0.7547\n",
            "Epoch 6/24, Loss: 0.5564, Accuracy: 0.7628\n",
            "Epoch 7/24, Loss: 0.5432, Accuracy: 0.7656\n",
            "Epoch 8/24, Loss: 0.5351, Accuracy: 0.7920\n",
            "Epoch 9/24, Loss: 0.5349, Accuracy: 0.7903\n",
            "Epoch 10/24, Loss: 0.5361, Accuracy: 0.7851\n",
            "Epoch 11/24, Loss: 0.5259, Accuracy: 0.7943\n",
            "Epoch 12/24, Loss: 0.5227, Accuracy: 0.8029\n",
            "Epoch 13/24, Loss: 0.5244, Accuracy: 0.8057\n",
            "Epoch 14/24, Loss: 0.5172, Accuracy: 0.8120\n",
            "Epoch 15/24, Loss: 0.5218, Accuracy: 0.7977\n",
            "Epoch 16/24, Loss: 0.5195, Accuracy: 0.7966\n",
            "Epoch 17/24, Loss: 0.5168, Accuracy: 0.8097\n",
            "Epoch 18/24, Loss: 0.5164, Accuracy: 0.8063\n",
            "Epoch 19/24, Loss: 0.5187, Accuracy: 0.8052\n",
            "Epoch 20/24, Loss: 0.5180, Accuracy: 0.8057\n",
            "Epoch 21/24, Loss: 0.5141, Accuracy: 0.8132\n",
            "Epoch 22/24, Loss: 0.5180, Accuracy: 0.8069\n",
            "Epoch 23/24, Loss: 0.5182, Accuracy: 0.8080\n",
            "Epoch 24/24, Loss: 0.5160, Accuracy: 0.8069\n",
            "Training complete. Best accuracy: 0.8132\n"
          ]
        }
      ]
    },
    {
      "cell_type": "code",
      "source": [
        "test_dataloder = DataLoader(test_dataset, batch_size=32, shuffle=True,num_workers=2)"
      ],
      "metadata": {
        "id": "ovuLL8AxxmbS"
      },
      "execution_count": null,
      "outputs": []
    },
    {
      "cell_type": "code",
      "source": [
        "import torch\n",
        "import numpy as np\n",
        "from sklearn.metrics import accuracy_score, confusion_matrix\n",
        "\n",
        "def test_model(model, test_loader):\n",
        "    device = torch.device('cuda' if torch.cuda.is_available() else 'cpu')\n",
        "    model.eval()  # Set the model to evaluation mode\n",
        "    all_preds = []\n",
        "    all_labels = []\n",
        "\n",
        "    with torch.no_grad():\n",
        "        for data, labels in test_loader:\n",
        "            data, labels = data.to(device), labels.to(device)\n",
        "            outputs = model(data)\n",
        "            _, preds = torch.max(outputs, 1)\n",
        "            all_preds.extend(preds.cpu().numpy())\n",
        "            all_labels.extend(labels.cpu().numpy())\n",
        "\n",
        "    # Calculate accuracy\n",
        "    accuracy = accuracy_score(all_labels, all_preds)\n",
        "\n",
        "    # Calculate confusion matrix\n",
        "    cm = confusion_matrix(all_labels, all_preds)\n",
        "\n",
        "    return accuracy, cm\n",
        "\n",
        "# Example usage:\n",
        "# Assuming `model` is your PyTorch model and `test_loader` is your test data loader\n",
        "accuracy, confusion_matrix = test_model(model, test_dataloder)\n",
        "print(\"Accuracy:\", accuracy)\n",
        "print(\"Confusion Matrix:\")\n",
        "print(confusion_matrix)\n"
      ],
      "metadata": {
        "colab": {
          "base_uri": "https://localhost:8080/"
        },
        "id": "P08h1mCVhVPI",
        "outputId": "977f2580-2673-4d9d-b400-24e941f2b885"
      },
      "execution_count": null,
      "outputs": [
        {
          "output_type": "stream",
          "name": "stdout",
          "text": [
            "Accuracy: 0.695024077046549\n",
            "Confusion Matrix:\n",
            "[[259  50]\n",
            " [140 174]]\n"
          ]
        }
      ]
    },
    {
      "cell_type": "code",
      "source": [
        "import seaborn as sns\n",
        "\n",
        "# Plot confusion matrix\n",
        "plt.figure(figsize=(8, 6))\n",
        "sns.heatmap(confusion_matrix, annot=True, fmt='d', cmap='Blues', cbar=False)\n",
        "plt.xlabel('Predicted Labels')\n",
        "plt.ylabel('True Labels')\n",
        "plt.title('Confusion Matrix')\n",
        "plt.show()"
      ],
      "metadata": {
        "colab": {
          "base_uri": "https://localhost:8080/",
          "height": 549
        },
        "id": "IpeF9mgyldMf",
        "outputId": "da2cda34-7052-4eb0-8324-61dfe3b7fba3"
      },
      "execution_count": null,
      "outputs": [
        {
          "output_type": "display_data",
          "data": {
            "text/plain": [
              "<Figure size 800x600 with 1 Axes>"
            ],
            "image/png": "[encoded data removed]"
          },
          "metadata": {}
        }
      ]
    }
  ]
}