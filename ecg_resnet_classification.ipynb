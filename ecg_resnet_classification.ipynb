{
  "cells": [
    {
      "cell_type": "markdown",
      "metadata": {
        "id": "view-in-github",
        "colab_type": "text"
      },
      "source": [
        "<a href=\"https://colab.research.google.com/github/rashadkp/ecg_classification_using_resnet/blob/master/ecg_resnet_classification.ipynb\" target=\"_parent\"><img src=\"https://colab.research.google.com/assets/colab-badge.svg\" alt=\"Open In Colab\"/></a>"
      ]
    },
    {
      "cell_type": "code",
      "execution_count": null,
      "metadata": {
        "id": "bu1tum-WbJM7"
      },
      "outputs": [],
      "source": [
        "!git clone https://github.com/ljbkusters/python-wigner-distribution.git"
      ]
    },
    {
      "cell_type": "code",
      "execution_count": null,
      "metadata": {
        "colab": {
          "base_uri": "https://localhost:8080/"
        },
        "id": "5d1Zl0NdbMGZ",
        "outputId": "d8949217-077d-4290-c349-e68063520a74"
      },
      "outputs": [
        {
          "output_type": "stream",
          "name": "stdout",
          "text": [
            "/content/python-wigner-distribution\n"
          ]
        }
      ],
      "source": [
        "cd python-wigner-distribution"
      ]
    },
    {
      "cell_type": "code",
      "source": [
        "from google.colab import drive\n",
        "drive.mount('/content/drive')"
      ],
      "metadata": {
        "colab": {
          "base_uri": "https://localhost:8080/"
        },
        "id": "S8MBOR3erPJT",
        "outputId": "b964cbb3-4fff-4e7a-e656-e32c23173301"
      },
      "execution_count": 4,
      "outputs": [
        {
          "output_type": "stream",
          "name": "stdout",
          "text": [
            "Mounted at /content/drive\n"
          ]
        }
      ]
    },
    {
      "cell_type": "code",
      "execution_count": null,
      "metadata": {
        "id": "LxeY7yE4bX6T"
      },
      "outputs": [],
      "source": [
        "pip install ."
      ]
    },
    {
      "cell_type": "code",
      "execution_count": 33,
      "metadata": {
        "id": "iWqdxheWPApb"
      },
      "outputs": [],
      "source": [
        "!pip install wfdb\n",
        "import numpy as np\n",
        "import matplotlib.pyplot as plt\n",
        "import cv2\n",
        "from scipy import signal\n",
        "import wfdb\n",
        "import pandas as pd\n",
        "# import wignerdpy\n",
        "# from wignerdpy.toolkits import signal_toolkit"
      ]
    },
    {
      "cell_type": "code",
      "execution_count": 34,
      "metadata": {
        "id": "bv4mZNTMZ9Nd"
      },
      "outputs": [],
      "source": [
        "Y = pd.read_csv('/content/drive/MyDrive/Physionet/ptb-xl/ptbxl_database.csv', index_col='ecg_id')"
      ]
    },
    {
      "cell_type": "code",
      "execution_count": 35,
      "metadata": {
        "id": "xkXEHiNGZ-AX"
      },
      "outputs": [],
      "source": [
        "Y = Y[:987]"
      ]
    },
    {
      "cell_type": "code",
      "execution_count": 36,
      "metadata": {
        "id": "l8QwvyEiasoh"
      },
      "outputs": [],
      "source": [
        "path = '/content/drive/MyDrive/Physionet/ptb-xl/'"
      ]
    },
    {
      "cell_type": "code",
      "source": [
        "import sys\n",
        "import torch\n",
        "import torch.fft\n",
        "import numpy as np\n",
        "from scipy import signal"
      ],
      "metadata": {
        "id": "5xtgAco7Fx63"
      },
      "execution_count": 37,
      "outputs": []
    },
    {
      "cell_type": "code",
      "source": [
        "def load_raw_data(df, path):\n",
        "    data = []\n",
        "    for i, filename in enumerate(df.filename_hr):\n",
        "        record, meta = wfdb.rdsamp(path + filename, channels=[1])\n",
        "        data.append(record)\n",
        "        # Print and overwrite the previous message\n",
        "        sys.stdout.write(f\"\\rRecord {filename} is read successfully.\")\n",
        "        sys.stdout.flush()\n",
        "    # Print a new line at the end to move the cursor to the next line\n",
        "    print()\n",
        "\n",
        "    # Convert the list to a PyTorch tensor\n",
        "    data = np.array(data)\n",
        "\n",
        "\n",
        "    return data"
      ],
      "metadata": {
        "id": "1Fu8-4NJHp1V"
      },
      "execution_count": 38,
      "outputs": []
    },
    {
      "cell_type": "code",
      "execution_count": null,
      "metadata": {
        "colab": {
          "base_uri": "https://localhost:8080/"
        },
        "id": "BGYdNb1Uac3C",
        "outputId": "3f6af1c3-218c-4ef9-9490-9da0d6800070"
      },
      "outputs": [
        {
          "output_type": "stream",
          "name": "stdout",
          "text": [
            "Record records500/00000/00512_hr is read successfully.\n"
          ]
        }
      ],
      "source": [
        "X = load_raw_data(Y,path)"
      ]
    },
    {
      "cell_type": "code",
      "execution_count": 39,
      "metadata": {
        "id": "dABN5enOd1Pw"
      },
      "outputs": [],
      "source": [
        "def check_norm(d):\n",
        "    if isinstance(d, str):\n",
        "        d = eval(d)  # Convert string representation of dictionary to dictionary\n",
        "        first_key = list(d.keys())[0]\n",
        "        if first_key == 'NORM':\n",
        "            return 0\n",
        "        else:\n",
        "            return 1\n",
        "    else:\n",
        "        return np.nan\n",
        "\n",
        "# Apply the function to the 'scp_codes' column\n",
        "Y['norm_indicator'] = Y['scp_codes'].apply(check_norm)\n",
        "\n",
        "# Convert the 'norm_indicator' column to a numpy array\n",
        "labels = Y['norm_indicator'].values\n"
      ]
    },
    {
      "cell_type": "code",
      "source": [
        "Z=Z[:,:,0]"
      ],
      "metadata": {
        "id": "bg5d-9v2539K"
      },
      "execution_count": null,
      "outputs": []
    },
    {
      "cell_type": "code",
      "execution_count": null,
      "metadata": {
        "id": "sSoFx4UucbW9"
      },
      "outputs": [],
      "source": [
        "sample_data = X[0]"
      ]
    },
    {
      "cell_type": "code",
      "source": [
        "X = X[:,:,0]\n"
      ],
      "metadata": {
        "id": "XW2EbwKtUq51"
      },
      "execution_count": null,
      "outputs": []
    },
    {
      "cell_type": "code",
      "source": [
        "from scipy.ndimage import zoom\n",
        "import os"
      ],
      "metadata": {
        "id": "kpEo8NKUctSQ"
      },
      "execution_count": 41,
      "outputs": []
    },
    {
      "cell_type": "code",
      "source": [
        "from scipy.ndimage import zoom"
      ],
      "metadata": {
        "id": "wRZYmgsJVFSX"
      },
      "execution_count": null,
      "outputs": []
    },
    {
      "cell_type": "markdown",
      "metadata": {
        "id": "ojczqozpl2tD"
      },
      "source": [
        "Wigner Ville Distribution"
      ]
    },
    {
      "cell_type": "code",
      "execution_count": null,
      "metadata": {
        "id": "nNkIQjsucXwA"
      },
      "outputs": [],
      "source": [
        "wigner_dist, max_freq = wignerdpy.wigner_distribution(sample_data, sample_frequency = 500)"
      ]
    },
    {
      "cell_type": "code",
      "execution_count": null,
      "metadata": {
        "id": "IQIPKzpml7J3"
      },
      "outputs": [],
      "source": [
        "def twodimrep(signal):\n",
        "  ret=[]\n",
        "  for i in range(len(signal)):\n",
        "    k,_ = wignerdpy.wigner_distribution(signal[i], sample_frequency = 500)\n",
        "    resized_matrix = zoom(k, (224/5000, 224/5000))\n",
        "    sys.stdout.write(f\"\\rRecord {i} is converted to matrix successfully.\")\n",
        "    sys.stdout.flush()\n",
        "    ret.append(resized_matrix)\n",
        "  return ret"
      ]
    },
    {
      "cell_type": "code",
      "source": [
        "A =X[:10]"
      ],
      "metadata": {
        "id": "fgk3NAObbvTF"
      },
      "execution_count": null,
      "outputs": []
    },
    {
      "cell_type": "code",
      "execution_count": null,
      "metadata": {
        "id": "tw5gtFermRz_",
        "colab": {
          "base_uri": "https://localhost:8080/"
        },
        "outputId": "7b28e236-9573-43f9-f3c0-44986b541384"
      },
      "outputs": [
        {
          "output_type": "stream",
          "name": "stdout",
          "text": [
            "Record 499 is converted to matrix successfully."
          ]
        }
      ],
      "source": [
        "im = twodimrep(X)"
      ]
    },
    {
      "cell_type": "code",
      "source": [
        "SAM = twodimrep(Z)"
      ],
      "metadata": {
        "colab": {
          "base_uri": "https://localhost:8080/"
        },
        "id": "wGVbl9hv6Jqf",
        "outputId": "5ba0e772-5de3-409a-c118-9b294ae8ac3d"
      },
      "execution_count": null,
      "outputs": [
        {
          "output_type": "stream",
          "name": "stdout",
          "text": [
            "Record 99 is converted to matrix successfully."
          ]
        }
      ]
    },
    {
      "cell_type": "markdown",
      "metadata": {
        "id": "5pS8fvXdPYUz"
      },
      "source": [
        "RESNET"
      ]
    },
    {
      "cell_type": "code",
      "source": [
        "wvd_data = np.load(\"/content/drive/MyDrive/ECG_TRAINING_CHECKPOINT/wvd_of_ecg.npy\")"
      ],
      "metadata": {
        "id": "AXI-cNtGdgjy"
      },
      "execution_count": 42,
      "outputs": []
    },
    {
      "cell_type": "code",
      "source": [
        "train_data = wvd_data[:700]\n",
        "train_label = labels[:700]\n",
        "test_data = wvd_data[700:987]\n",
        "test_label = labels[700:987]"
      ],
      "metadata": {
        "id": "Q00f98Rbhodm"
      },
      "execution_count": 49,
      "outputs": []
    },
    {
      "cell_type": "code",
      "source": [
        "pip install torch torchvision numpy wandb"
      ],
      "metadata": {
        "id": "ckhYjP7zAxV6"
      },
      "execution_count": null,
      "outputs": []
    },
    {
      "cell_type": "code",
      "source": [
        "import numpy as np\n",
        "import torch\n",
        "from torch.utils.data import Dataset, DataLoader\n",
        "from torchvision import transforms\n",
        "\n",
        "class CustomDataset(Dataset):\n",
        "    def __init__(self, data, labels, transform=None):\n",
        "        self.data = data\n",
        "        self.labels = labels\n",
        "        self.transform = transform\n",
        "\n",
        "    def __len__(self):\n",
        "        return len(self.data)\n",
        "\n",
        "    def __getitem__(self, idx):\n",
        "        image = self.data[idx]\n",
        "        label = self.labels[idx]\n",
        "        if self.transform:\n",
        "            image = self.transform(image)\n",
        "        return image, label\n",
        "\n",
        "# Assuming `data_list` is your list of 224x224 matrices and `labels` is the numpy array of size 987x1\n",
        "# data_list = ...  # Your data here\n",
        "# labels = ...     # Your labels here\n",
        "\n",
        "# Convert to numpy arrays\n",
        "data_array = np.stack(train_data)\n",
        "labels_array = train_label.flatten()\n",
        "\n",
        "class SingleToThreeChannel:\n",
        "    def __call__(self, image):\n",
        "        return image.repeat(3, 1, 1)\n",
        "# Transformations\n",
        "transform = transforms.Compose([\n",
        "    transforms.ToPILImage(),\n",
        "    transforms.ToTensor(),\n",
        "    SingleToThreeChannel(),\n",
        "])\n",
        "\n",
        "# Create dataset and dataloader\n",
        "dataset = CustomDataset(data_array, labels_array, transform=transform)\n",
        "dataloader = DataLoader(dataset, batch_size=32, shuffle=True)\n"
      ],
      "metadata": {
        "id": "K3BOqQ9sA3K1"
      },
      "execution_count": 51,
      "outputs": []
    },
    {
      "cell_type": "code",
      "source": [
        "import wandb\n",
        "\n",
        "wandb.init(project=\"resnet50-classification\")\n"
      ],
      "metadata": {
        "colab": {
          "base_uri": "https://localhost:8080/",
          "height": 216
        },
        "id": "6Q4xVzByDKgm",
        "outputId": "5b0c3ae8-0aae-47c1-907a-cb3fd4dc7918"
      },
      "execution_count": 52,
      "outputs": [
        {
          "output_type": "display_data",
          "data": {
            "text/plain": [
              "<IPython.core.display.Javascript object>"
            ],
            "application/javascript": [
              "\n",
              "        window._wandbApiKey = new Promise((resolve, reject) => {\n",
              "            function loadScript(url) {\n",
              "            return new Promise(function(resolve, reject) {\n",
              "                let newScript = document.createElement(\"script\");\n",
              "                newScript.onerror = reject;\n",
              "                newScript.onload = resolve;\n",
              "                document.body.appendChild(newScript);\n",
              "                newScript.src = url;\n",
              "            });\n",
              "            }\n",
              "            loadScript(\"https://cdn.jsdelivr.net/npm/postmate/build/postmate.min.js\").then(() => {\n",
              "            const iframe = document.createElement('iframe')\n",
              "            iframe.style.cssText = \"width:0;height:0;border:none\"\n",
              "            document.body.appendChild(iframe)\n",
              "            const handshake = new Postmate({\n",
              "                container: iframe,\n",
              "                url: 'https://wandb.ai/authorize'\n",
              "            });\n",
              "            const timeout = setTimeout(() => reject(\"Couldn't auto authenticate\"), 5000)\n",
              "            handshake.then(function(child) {\n",
              "                child.on('authorize', data => {\n",
              "                    clearTimeout(timeout)\n",
              "                    resolve(data)\n",
              "                });\n",
              "            });\n",
              "            })\n",
              "        });\n",
              "    "
            ]
          },
          "metadata": {}
        },
        {
          "output_type": "stream",
          "name": "stderr",
          "text": [
            "\u001b[34m\u001b[1mwandb\u001b[0m: Logging into wandb.ai. (Learn how to deploy a W&B server locally: https://wandb.me/wandb-server)\n",
            "\u001b[34m\u001b[1mwandb\u001b[0m: You can find your API key in your browser here: https://wandb.ai/authorize\n",
            "wandb: Paste an API key from your profile and hit enter, or press ctrl+c to quit:"
          ]
        },
        {
          "name": "stdout",
          "output_type": "stream",
          "text": [
            " ··········\n"
          ]
        },
        {
          "output_type": "stream",
          "name": "stderr",
          "text": [
            "\u001b[34m\u001b[1mwandb\u001b[0m: Appending key for api.wandb.ai to your netrc file: /root/.netrc\n"
          ]
        },
        {
          "output_type": "display_data",
          "data": {
            "text/plain": [
              "<IPython.core.display.HTML object>"
            ],
            "text/html": [
              "Tracking run with wandb version 0.17.0"
            ]
          },
          "metadata": {}
        },
        {
          "output_type": "display_data",
          "data": {
            "text/plain": [
              "<IPython.core.display.HTML object>"
            ],
            "text/html": [
              "Run data is saved locally in <code>/content/wandb/run-20240522_090213-4lt5ck6d</code>"
            ]
          },
          "metadata": {}
        },
        {
          "output_type": "display_data",
          "data": {
            "text/plain": [
              "<IPython.core.display.HTML object>"
            ],
            "text/html": [
              "Syncing run <strong><a href='https://wandb.ai/rashadkp99/resnet50-classification/runs/4lt5ck6d' target=\"_blank\">expert-voice-3</a></strong> to <a href='https://wandb.ai/rashadkp99/resnet50-classification' target=\"_blank\">Weights & Biases</a> (<a href='https://wandb.me/run' target=\"_blank\">docs</a>)<br/>"
            ]
          },
          "metadata": {}
        },
        {
          "output_type": "display_data",
          "data": {
            "text/plain": [
              "<IPython.core.display.HTML object>"
            ],
            "text/html": [
              " View project at <a href='https://wandb.ai/rashadkp99/resnet50-classification' target=\"_blank\">https://wandb.ai/rashadkp99/resnet50-classification</a>"
            ]
          },
          "metadata": {}
        },
        {
          "output_type": "display_data",
          "data": {
            "text/plain": [
              "<IPython.core.display.HTML object>"
            ],
            "text/html": [
              " View run at <a href='https://wandb.ai/rashadkp99/resnet50-classification/runs/4lt5ck6d' target=\"_blank\">https://wandb.ai/rashadkp99/resnet50-classification/runs/4lt5ck6d</a>"
            ]
          },
          "metadata": {}
        },
        {
          "output_type": "execute_result",
          "data": {
            "text/html": [
              "<button onClick=\"this.nextSibling.style.display='block';this.style.display='none';\">Display W&B run</button><iframe src='https://wandb.ai/rashadkp99/resnet50-classification/runs/4lt5ck6d?jupyter=true' style='border:none;width:100%;height:420px;display:none;'></iframe>"
            ],
            "text/plain": [
              "<wandb.sdk.wandb_run.Run at 0x7b7a584e8970>"
            ]
          },
          "metadata": {},
          "execution_count": 52
        }
      ]
    },
    {
      "cell_type": "code",
      "source": [
        "import torch.nn as nn\n",
        "import torchvision.models as models\n",
        "\n",
        "# Load pretrained ResNet50\n",
        "model = models.resnet50(pretrained=True)\n",
        "\n",
        "# Modify the final fully connected layer\n",
        "num_ftrs = model.fc.in_features\n",
        "model.fc = nn.Linear(num_ftrs, 2)  # Assuming 2 classes\n",
        "\n",
        "# Move the model to the GPU if available\n",
        "device = torch.device(\"cuda:0\" if torch.cuda.is_available() else \"cpu\")\n",
        "model = model.to(device)\n"
      ],
      "metadata": {
        "id": "Mb8F3ryTDWzC",
        "colab": {
          "base_uri": "https://localhost:8080/"
        },
        "outputId": "636797fd-5d69-4de8-8a3c-ac8575cab75f"
      },
      "execution_count": 53,
      "outputs": [
        {
          "output_type": "stream",
          "name": "stderr",
          "text": [
            "/usr/local/lib/python3.10/dist-packages/torchvision/models/_utils.py:208: UserWarning: The parameter 'pretrained' is deprecated since 0.13 and may be removed in the future, please use 'weights' instead.\n",
            "  warnings.warn(\n",
            "/usr/local/lib/python3.10/dist-packages/torchvision/models/_utils.py:223: UserWarning: Arguments other than a weight enum or `None` for 'weights' are deprecated since 0.13 and may be removed in the future. The current behavior is equivalent to passing `weights=ResNet50_Weights.IMAGENET1K_V1`. You can also use `weights=ResNet50_Weights.DEFAULT` to get the most up-to-date weights.\n",
            "  warnings.warn(msg)\n"
          ]
        }
      ]
    },
    {
      "cell_type": "code",
      "source": [
        "import torch.optim as optim\n",
        "from torch.optim import lr_scheduler\n",
        "import copy\n",
        "\n",
        "\n",
        "criterion = nn.CrossEntropyLoss()\n",
        "optimizer = optim.SGD(model.parameters(), lr=0.001, momentum=0.9)\n",
        "scheduler = lr_scheduler.StepLR(optimizer, step_size=7, gamma=0.1)\n",
        "\n",
        "num_epochs = 25\n",
        "best_model_wts = copy.deepcopy(model.state_dict())\n",
        "best_acc = 0.0\n",
        "\n",
        "\n",
        "for epoch in range(num_epochs):\n",
        "    running_loss = 0.0\n",
        "    running_corrects = 0\n",
        "\n",
        "    for inputs, labels in dataloader:\n",
        "        inputs = inputs.to(device)\n",
        "        labels = labels.to(device)\n",
        "\n",
        "        optimizer.zero_grad()\n",
        "\n",
        "        outputs = model(inputs)\n",
        "        _, preds = torch.max(outputs, 1)\n",
        "        loss = criterion(outputs, labels)\n",
        "\n",
        "        loss.backward()\n",
        "        optimizer.step()\n",
        "\n",
        "        running_loss += loss.item() * inputs.size(0)\n",
        "        running_corrects += torch.sum(preds == labels.data)\n",
        "\n",
        "    epoch_loss = running_loss / len(dataset)\n",
        "    epoch_acc = running_corrects.double() / len(dataset)\n",
        "\n",
        "    wandb.log({\"loss\": epoch_loss, \"accuracy\": epoch_acc})\n",
        "\n",
        "    print(f'Epoch {epoch}/{num_epochs - 1}, Loss: {epoch_loss:.4f}, Accuracy: {epoch_acc:.4f}')\n",
        "\n",
        "    # Deep copy the model if the current accuracy is the best so far\n",
        "    if epoch_acc > best_acc:\n",
        "        best_acc = epoch_acc\n",
        "        best_model_wts = copy.deepcopy(model.state_dict())\n",
        "\n",
        "    scheduler.step()\n",
        "\n",
        "# Load best model weights\n",
        "model.load_state_dict(best_model_wts)\n",
        "\n",
        "# Save the best model\n",
        "torch.save(model.state_dict(), \"best_model.pth\")\n",
        "\n",
        "print(f\"Training complete. Best accuracy: {best_acc:.4f}\")\n"
      ],
      "metadata": {
        "id": "J-x-UhEdDcEL",
        "colab": {
          "base_uri": "https://localhost:8080/"
        },
        "outputId": "5be2ec45-f27b-41d5-bada-6d3e318b9f09"
      },
      "execution_count": 54,
      "outputs": [
        {
          "output_type": "stream",
          "name": "stdout",
          "text": [
            "Epoch 0/24, Loss: 0.7201, Accuracy: 0.4886\n",
            "Epoch 1/24, Loss: 0.6506, Accuracy: 0.6043\n",
            "Epoch 2/24, Loss: 0.5379, Accuracy: 0.7443\n",
            "Epoch 3/24, Loss: 0.3382, Accuracy: 0.9029\n",
            "Epoch 4/24, Loss: 0.1398, Accuracy: 0.9857\n",
            "Epoch 5/24, Loss: 0.0472, Accuracy: 1.0000\n",
            "Epoch 6/24, Loss: 0.0256, Accuracy: 0.9986\n",
            "Epoch 7/24, Loss: 0.0141, Accuracy: 1.0000\n",
            "Epoch 8/24, Loss: 0.0154, Accuracy: 1.0000\n",
            "Epoch 9/24, Loss: 0.0133, Accuracy: 1.0000\n",
            "Epoch 10/24, Loss: 0.0156, Accuracy: 1.0000\n",
            "Epoch 11/24, Loss: 0.0105, Accuracy: 1.0000\n",
            "Epoch 12/24, Loss: 0.0127, Accuracy: 1.0000\n",
            "Epoch 13/24, Loss: 0.0138, Accuracy: 1.0000\n",
            "Epoch 14/24, Loss: 0.0143, Accuracy: 1.0000\n",
            "Epoch 15/24, Loss: 0.0118, Accuracy: 1.0000\n",
            "Epoch 16/24, Loss: 0.0119, Accuracy: 1.0000\n",
            "Epoch 17/24, Loss: 0.0117, Accuracy: 1.0000\n",
            "Epoch 18/24, Loss: 0.0112, Accuracy: 1.0000\n",
            "Epoch 19/24, Loss: 0.0114, Accuracy: 1.0000\n",
            "Epoch 20/24, Loss: 0.0088, Accuracy: 1.0000\n",
            "Epoch 21/24, Loss: 0.0103, Accuracy: 1.0000\n",
            "Epoch 22/24, Loss: 0.0130, Accuracy: 1.0000\n",
            "Epoch 23/24, Loss: 0.0115, Accuracy: 1.0000\n",
            "Epoch 24/24, Loss: 0.0117, Accuracy: 0.9986\n",
            "Training complete. Best accuracy: 1.0000\n"
          ]
        }
      ]
    },
    {
      "cell_type": "markdown",
      "source": [
        "testing"
      ],
      "metadata": {
        "id": "LdWRiL2j4Ijn"
      }
    },
    {
      "cell_type": "code",
      "source": [
        "import torch\n",
        "import torchvision.models as models\n",
        "\n",
        "# Load the model architecture\n",
        "model = models.resnet50()\n",
        "\n",
        "# Modify the final fully connected layer\n",
        "num_ftrs = model.fc.in_features\n",
        "model.fc = nn.Linear(num_ftrs, 2)  # Assuming 2 classes\n",
        "\n",
        "# Load the best model weights\n",
        "model.load_state_dict(torch.load(\"/content/drive/MyDrive/ECG_TRAINING_CHECKPOINT/best_model.pth\"))\n",
        "\n",
        "# Move the model to the GPU if available\n",
        "device = torch.device(\"cuda:0\" if torch.cuda.is_available() else \"cpu\")\n",
        "model = model.to(device)\n",
        "\n",
        "# Set the model to evaluation mode\n",
        "model.eval()\n",
        "from PIL import Image\n",
        "import numpy as np\n",
        "from torchvision import transforms\n",
        "\n",
        "# Custom transform to convert single channel to 3 channels\n",
        "class SingleToThreeChannel:\n",
        "    def __call__(self, image):\n",
        "        return image.repeat(3, 1, 1)\n",
        "\n",
        "# Define the transforms\n",
        "transform = transforms.Compose([\n",
        "    transforms.ToPILImage(),\n",
        "    transforms.ToTensor(),\n",
        "    SingleToThreeChannel(),  # Convert single channel to 3 channels\n",
        "])\n",
        "\n",
        "# Example single input (replace this with your actual input)\n",
        "single_input = wvd_data[986]  # Dummy single-channel input\n",
        "\n",
        "# Apply the transformations\n",
        "input_tensor = transform(single_input)\n",
        "\n",
        "# Add batch dimension\n",
        "input_tensor = input_tensor.unsqueeze(0)\n",
        "\n",
        "# Move the input tensor to the GPU if available\n",
        "input_tensor = input_tensor.to(device)\n"
      ],
      "metadata": {
        "id": "_pitoJAU0RBb"
      },
      "execution_count": 30,
      "outputs": []
    },
    {
      "cell_type": "code",
      "source": [
        "print(labels)"
      ],
      "metadata": {
        "id": "_HfcTRP2nLCa"
      },
      "execution_count": null,
      "outputs": []
    },
    {
      "cell_type": "code",
      "source": [
        "# Run inference\n",
        "with torch.no_grad():\n",
        "    outputs = model(input_tensor)\n",
        "    _, predicted = torch.max(outputs, 1)\n",
        "\n",
        "# Convert the predicted class index to a class label (0 or 1)\n",
        "predicted_class = predicted.item()\n",
        "\n",
        "print(f\"Predicted class: {predicted_class}\")\n"
      ],
      "metadata": {
        "colab": {
          "base_uri": "https://localhost:8080/"
        },
        "id": "RdDeAbpD4RRo",
        "outputId": "2d559a93-fac8-4afe-af67-5b2460ee561b"
      },
      "execution_count": 55,
      "outputs": [
        {
          "output_type": "stream",
          "name": "stdout",
          "text": [
            "Predicted class: 0\n"
          ]
        }
      ]
    },
    {
      "cell_type": "markdown",
      "source": [
        "Test data"
      ],
      "metadata": {
        "id": "1zwiZJw1f_YY"
      }
    },
    {
      "cell_type": "code",
      "source": [
        "import torch\n",
        "import torchvision.models as models\n",
        "import torch.nn as nn\n",
        "from sklearn.metrics import confusion_matrix\n",
        "import numpy as np\n",
        "\n",
        "# Load the model architecture\n",
        "model = models.resnet50()\n",
        "\n",
        "# Modify the final fully connected layer\n",
        "num_ftrs = model.fc.in_features\n",
        "model.fc = nn.Linear(num_ftrs, 2)  # Assuming 2 classes\n",
        "\n",
        "# Load the best model weights\n",
        "model.load_state_dict(torch.load(\"/content/drive/MyDrive/ECG_TRAINING_CHECKPOINT/best_model.pth\"))\n",
        "\n",
        "# Move the model to the GPU if available\n",
        "device = torch.device(\"cuda:0\" if torch.cuda.is_available() else \"cpu\")\n",
        "model = model.to(device)\n",
        "\n",
        "# Set the model to evaluation mode\n",
        "model.eval()\n",
        "\n",
        "# Assuming you have your test data and labels as test_data and test_labels respectively\n",
        "\n",
        "# List to store predicted labels\n",
        "all_predicted = []\n",
        "# List to store ground truth labels\n",
        "all_labels = []\n",
        "\n",
        "\n",
        "\n",
        "# Iterate over test data\n",
        "for single_input in test_data:\n",
        "    # Apply transformations\n",
        "    input_tensor = transform(single_input)\n",
        "    input_tensor = input_tensor.unsqueeze(0)\n",
        "    input_tensor = input_tensor.to(device)\n",
        "\n",
        "    # Run inference\n",
        "    with torch.no_grad():\n",
        "        outputs = model(input_tensor)\n",
        "        _, predicted = torch.max(outputs, 1)\n",
        "\n",
        "    # Append predicted and ground truth labels\n",
        "    all_predicted.append(predicted.item())\n",
        "    # Assuming test_labels is a list of ground truth labels\n",
        "    all_labels.append(test_label[len(all_predicted)-1])  # assuming same length\n",
        "\n",
        "# Convert lists to numpy arrays\n",
        "all_predicted = np.array(all_predicted)\n",
        "all_labels = np.array(all_labels)\n",
        "\n",
        "# Create confusion matrix\n",
        "conf_matrix = confusion_matrix(all_labels, all_predicted)\n",
        "\n",
        "print(\"Confusion Matrix:\")\n",
        "print(conf_matrix)\n"
      ],
      "metadata": {
        "colab": {
          "base_uri": "https://localhost:8080/"
        },
        "id": "rhV8OYWqgAx0",
        "outputId": "67d7d8fb-22f9-4a9f-ba55-250f38fb4616"
      },
      "execution_count": 56,
      "outputs": [
        {
          "output_type": "stream",
          "name": "stdout",
          "text": [
            "Confusion Matrix:\n",
            "[[100  46]\n",
            " [ 57  84]]\n"
          ]
        }
      ]
    },
    {
      "cell_type": "code",
      "source": [
        "import matplotlib.pyplot as plt\n",
        "import seaborn as sns\n",
        "\n",
        "# Plot confusion matrix\n",
        "plt.figure(figsize=(8, 6))\n",
        "sns.heatmap(conf_matrix, annot=True, fmt='d', cmap='Blues', cbar=False)\n",
        "plt.xlabel('Predicted Labels')\n",
        "plt.ylabel('True Labels')\n",
        "plt.title('Confusion Matrix')\n",
        "plt.show()\n"
      ],
      "metadata": {
        "colab": {
          "base_uri": "https://localhost:8080/",
          "height": 564
        },
        "id": "zy7zRsVvg2U1",
        "outputId": "eef8cbe7-fb97-44fd-9e1d-3b6d02f2ad35"
      },
      "execution_count": 57,
      "outputs": [
        {
          "output_type": "display_data",
          "data": {
            "text/plain": [
              "<Figure size 800x600 with 1 Axes>"
            ],
            "image/png": "[encoded data removed]"
          },
          "metadata": {}
        }
      ]
    },
    {
      "cell_type": "code",
      "source": [
        "# Calculate accuracy\n",
        "accuracy = np.trace(conf_matrix) / np.sum(conf_matrix)\n",
        "\n",
        "# Calculate precision\n",
        "precision = np.diag(conf_matrix) / np.sum(conf_matrix, axis=0)\n",
        "\n",
        "print(f'Accuracy: {accuracy*100:.2f}')\n",
        "print(f'Precision for class 0: {precision[0]:.2f}')\n",
        "print(f'Precision for class 1: {precision[1]:.2f}')\n"
      ],
      "metadata": {
        "colab": {
          "base_uri": "https://localhost:8080/"
        },
        "id": "tQMtSpEWg-sq",
        "outputId": "ad7dad49-a702-4472-db1a-40af609e0599"
      },
      "execution_count": 58,
      "outputs": [
        {
          "output_type": "stream",
          "name": "stdout",
          "text": [
            "Accuracy: 64.11\n",
            "Precision for class 0: 0.64\n",
            "Precision for class 1: 0.65\n"
          ]
        }
      ]
    }
  ],
  "metadata": {
    "accelerator": "GPU",
    "colab": {
      "gpuType": "T4",
      "provenance": [],
      "include_colab_link": true
    },
    "kernelspec": {
      "display_name": "Python 3",
      "name": "python3"
    },
    "language_info": {
      "name": "python"
    }
  },
  "nbformat": 4,
  "nbformat_minor": 0
}